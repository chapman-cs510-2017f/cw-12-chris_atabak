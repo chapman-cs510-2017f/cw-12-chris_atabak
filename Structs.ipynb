{
 "cells": [
  {
   "cell_type": "markdown",
   "metadata": {
    "collapsed": false
   },
   "source": [
    "# Stucts C++ "
   ]
  },
  {
   "cell_type": "markdown",
   "metadata": {
    "collapsed": false
   },
   "source": [
    "## i. Differences"
   ]
  },
  {
   "cell_type": "markdown",
   "metadata": {
    "collapsed": false
   },
   "source": [
    "There are several differences between the Structs files in C and C++. First, you do not need a typedef for a struct in C++ while in C you do need it. For a pass by reference in C you would use something like VEC3 * wp in a pass by reference function while in C++ you would use something like VEC3 &wp in a pass by reference function. Operators may be type overloaded in C++. When passing by value in C++ you only need to reference the pointer in the function definition. When running the function, the input is object and C++ knows that it is a pass by reference.\n",
    "\n",
    "## ii. Define guard\n",
    "\n",
    "What #define guard does is prevent including two copies of a header file. If 3 header files include the previous header files (i.e header1.h -> header2.h #include header1.h -> header3.h #include header1.h, #include header2.h) we are including two copies of a header file leading to a compilation error because it is defined twice. \n",
    "\n",
    "## iii. Type Overloading\n",
    "\n",
    "Type overloading is definining multiple data types of a variable. This is useful because we may want to manipulate different types of data for accuracy reasons or applying functions.\n",
    "\n",
    "## iv. Pass by reference in C vs C++\n",
    "\n",
    "For pass by reference in C we use require a pointer as the argument of the function and use \"->\" to change the original value. In C++ we do not need to use the pointer as the argument when we call the function. We only need \"&wr\" in the function definition and only need to use the object, not the pointer, as the argument. Then, we change the value using a pass by value \".\" syntax but it is actually passing by reference. With this, we only have to add or remove \"&\" in our function definition to change from pass by value and pass by reference.\n",
    "\n",
    "## v. Operator type overloading\n",
    "\n",
    "Operator type overloading is defining operations for different types of data. This is useful for having an operation to use for different types like adding for example.\n"
   ]
  },
  {
   "cell_type": "code",
   "execution_count": 1,
   "metadata": {
    "collapsed": false
   },
   "outputs": [
    {
     "name": "stdout",
     "output_type": "stream",
     "text": [
      "-----Pass by value test-----\n"
     ]
    },
    {
     "name": "stdout",
     "output_type": "stream",
     "text": [
      "Original 3 vector:\n"
     ]
    },
    {
     "name": "stdout",
     "output_type": "stream",
     "text": [
      "3-Vector : [0, 0, 0]\n"
     ]
    },
    {
     "name": "stdout",
     "output_type": "stream",
     "text": [
      "Original 3 vector after modification:\n"
     ]
    },
    {
     "name": "stdout",
     "output_type": "stream",
     "text": [
      "3-Vector : [0, 0, 0]\n"
     ]
    },
    {
     "name": "stdout",
     "output_type": "stream",
     "text": [
      "New 3 vector after modification:\n"
     ]
    },
    {
     "name": "stdout",
     "output_type": "stream",
     "text": [
      "3-Vector : [1, 2, 3]\n"
     ]
    },
    {
     "name": "stdout",
     "output_type": "stream",
     "text": [
      "-----Pass by reference test-----\n"
     ]
    },
    {
     "name": "stdout",
     "output_type": "stream",
     "text": [
      "Original 2 vector:\n"
     ]
    },
    {
     "name": "stdout",
     "output_type": "stream",
     "text": [
      "2Vector : [0, 0]\n"
     ]
    },
    {
     "name": "stdout",
     "output_type": "stream",
     "text": [
      "Original 2 vector after modification:\n"
     ]
    },
    {
     "name": "stdout",
     "output_type": "stream",
     "text": [
      "2Vector : [1, 2]\n"
     ]
    }
   ],
   "source": [
    "./src/structs/structs"
   ]
  },
  {
   "cell_type": "markdown",
   "metadata": {
    "collapsed": false
   },
   "source": [
    "The outpus shows that passing by value does not change the original vector, just a copy of it while the pass by reference changes the actual vector. "
   ]
  }
 ],
 "metadata": {
  "kernelspec": {
   "display_name": "Bash (Linux)",
   "language": "bash",
   "name": "bash"
  },
  "language_info": {
   "codemirror_mode": "shell",
   "file_extension": ".sh",
   "mimetype": "text/x-sh",
   "name": "bash"
  }
 },
 "nbformat": 4,
 "nbformat_minor": 0
}