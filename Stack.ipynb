{
 "cells": [
  {
   "cell_type": "markdown",
   "metadata": {
    "collapsed": false
   },
   "source": [
    "# Stack in C++\n",
    "\n",
    "## i. Stack in C++\n",
    "\n",
    "Stack is defined in C++ as a class versus in C where it is defined as a struct. In C, we move the pointer while in C++ we have unique pointer and more the head of the stack. \n",
    "\n",
    "## ii. Class vs Struct\n",
    "\n",
    "In a class we can define different methods that belong to the class while a stuct just defines data types and groups them together into memory. \n",
    "\n",
    "## iii. Private and Public\n",
    "\n",
    "Private is used to store the actual data that is private to the class while public contains the available methods of the class. \n",
    "\n",
    "## iv. size_t\n",
    "\n",
    "Size_t finds the size of the stack (i.e what how many items are stacked together)\n"
   ]
  },
  {
   "cell_type": "code",
   "execution_count": 0,
   "metadata": {
    "collapsed": false
   },
   "outputs": [
   ],
   "source": [
   ]
  }
 ],
 "metadata": {
  "kernelspec": {
   "display_name": "Bash (Linux)",
   "language": "bash",
   "name": "bash"
  },
  "language_info": {
   "codemirror_mode": "shell",
   "file_extension": ".sh",
   "mimetype": "text/x-sh",
   "name": "bash"
  }
 },
 "nbformat": 4,
 "nbformat_minor": 0
}