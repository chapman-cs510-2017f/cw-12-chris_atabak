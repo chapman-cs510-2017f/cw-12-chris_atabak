{
 "cells": [
  {
   "cell_type": "markdown",
   "metadata": {
    "collapsed": false
   },
   "source": [
    "# Stack in C++\n",
    "\n",
    "## 1. Stack in C++\n",
    "\n",
    "Stack is defined in C++ as a class versus in C where it is defined as a struct. In C, we move the pointer while in C++ we have unique pointer and more the head of the stack. \n",
    "\n",
    "## 2. Class vs Struct\n",
    "\n",
    "In a class we can define different methods that belong to the class while a stuct just defines data types and groups them together into memory. \n",
    "\n",
    "## 3. Private and Public\n",
    "\n",
    "Private is used to store the actual data that is private to the class while public contains the available methods of the class. \n",
    "\n",
    "## 4. size_t\n",
    "\n",
    "Size_t finds the size of the stack (i.e what how many items are stacked together)\n",
    "\n",
    "## 5. Pointers\n",
    "\n",
    "This code avoids the use of C pointers because we want to use unique pointers that allocate and delete memory more efficiently.\n",
    "\n",
    "## 6. New and delete\n",
    "\n",
    "What new does is creates a new block of memory and delete dealloccates a memory block. New relates to initially allocated memory in C and delete relates to \"free\" in C. \n",
    "\n",
    "## 7. Memory Leak\n",
    "\n",
    "A memory leak is when memory that is not needed is not released.\n",
    "\n",
    "## 8. unique_pointer\n",
    "\n",
    "A unique pointer is a smart pointer that is able to handle deallocation of memory that is not used. Using \"new\" for a smart pointer will allocate a block of memory for it and there are no other references to it . It is like a C pointer in that it is a memory allocation but the unique pointer in C++ allows for deletions whenever necessary and there is only 1 reference to it. \n",
    "\n",
    "## 9. List Initializer\n",
    "\n",
    "A list initializer initializes the field values of a class. \n",
    "\n",
    "## 10. Rule of Zero\n",
    "\n",
    "The rule of zero is using the safer structure of the unique pointer for memory allocation. It relates to the rule of three, defining a class constructor, copy constructor, and copy assignment because the unique pointer does all of this as the memory allocation is predefined in the unique pointer."
   ]
  }
 ],
 "metadata": {
  "kernelspec": {
   "display_name": "Bash (Linux)",
   "language": "bash",
   "name": "bash"
  },
  "language_info": {
   "codemirror_mode": "shell",
   "file_extension": ".sh",
   "mimetype": "text/x-sh",
   "name": "bash"
  }
 },
 "nbformat": 4,
 "nbformat_minor": 0
}