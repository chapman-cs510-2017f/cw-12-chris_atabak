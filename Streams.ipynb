{
 "cells": [
  {
   "cell_type": "markdown",
   "metadata": {
    "collapsed": false
   },
   "source": [
    "## C vs C++:\n",
    "* The file extension for C files is .C and .h for headers but in C++ it is .cpp or .cc and .h ot .hpp for headers.\n",
    "* C++ uses NAMESPACE which avoid name collisions. but C does not have namespace.\n",
    "* We have String data type in C++ which is not exist in C.\n",
    "* C++ use Streams for I/O but C has its own I/O functions.\n",
    "\n",
    "## Name Space:\n",
    "* A namespace is a region that provides a scope to the identifiers (the names of types, functions, variables, etc) inside it. Namespaces are used to organize code into groups and to prevent name collisions.\n",
    "\n",
    "## Streams:\n",
    "* Streams are just series of characters. You can use streams to read and write on any medium without requiring you to know the details of how to write to the storage medium. Streams work with built-in data types. In C, you have to specify what type of variable is being printed using placeholders such as %d, %s, %llu, etc. However, in C++, you break up your output with the string operator and that is what converts the variable for you and then passes it to the \"cout\".\n",
    "\n",
    "## String:\n",
    "* In C strings are arrays of characters which a pointer points to the first character but in C++ strings are an object with automatic memory allocation and different methods.\n",
    "\n"
   ]
  },
  {
   "cell_type": "code",
   "execution_count": 0,
   "metadata": {
    "collapsed": false
   },
   "outputs": [
   ],
   "source": [
   ]
  }
 ],
 "metadata": {
  "kernelspec": {
   "display_name": "Bash (Linux)",
   "language": "bash",
   "name": "bash"
  },
  "language_info": {
   "codemirror_mode": "shell",
   "file_extension": ".sh",
   "mimetype": "text/x-sh",
   "name": "bash"
  }
 },
 "nbformat": 4,
 "nbformat_minor": 0
}